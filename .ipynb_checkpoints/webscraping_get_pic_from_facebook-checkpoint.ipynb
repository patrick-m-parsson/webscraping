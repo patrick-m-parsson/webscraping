{
 "cells": [
  {
   "cell_type": "code",
   "execution_count": 96,
   "id": "85698f34-a51e-443b-8888-bcbc7778a3f1",
   "metadata": {},
   "outputs": [],
   "source": [
    "from selenium import webdriver\n",
    "from selenium.webdriver.common.by import By\n",
    "from selenium.webdriver.common.keys import Keys\n",
    "from selenium.webdriver.chrome.service import Service\n",
    "from selenium.webdriver.chrome.options import Options\n",
    "from selenium.webdriver.support.wait import WebDriverWait\n",
    "from selenium.webdriver.support import expected_conditions as EC\n",
    "import time"
   ]
  },
  {
   "cell_type": "code",
   "execution_count": 97,
   "id": "7d2f094b-ca92-4cab-a3e3-90e27527eec4",
   "metadata": {},
   "outputs": [],
   "source": [
    "service = Service(\"chromedriver.exe\")\n",
    "option = Options()\n",
    "option.add_argument('--disable-notifications')\n",
    "\n",
    "driver = webdriver.Chrome(service=service, options=option)"
   ]
  },
  {
   "cell_type": "code",
   "execution_count": 98,
   "id": "75a0ab1b-3435-47fe-9b5e-c1aa39eeef3a",
   "metadata": {},
   "outputs": [],
   "source": [
    "driver.get(\"http://www.facebook.com\")\n",
    "\n",
    "#target username\n",
    "username = WebDriverWait(driver, 10).until(EC.element_to_be_clickable((By.CSS_SELECTOR, \"input[name='email']\")))\n",
    "password = WebDriverWait(driver, 10).until(EC.element_to_be_clickable((By.CSS_SELECTOR, \"input[name='pass']\")))\n",
    "\n",
    "#enter username and password\n",
    "username.clear()\n",
    "username.send_keys(\"patrick.m.parsson@gmail.com\")\n",
    "password.clear()\n",
    "password.send_keys(\"Pi = 3.1415926538979\")\n",
    "\n",
    "#target the login button and click it\n",
    "button = WebDriverWait(driver, 2).until(EC.element_to_be_clickable((By.CSS_SELECTOR, \"button[type='submit']\"))).click()\n",
    "\n",
    "#We are logged in!"
   ]
  },
  {
   "cell_type": "code",
   "execution_count": 99,
   "id": "dca6c41f-78ab-4e51-a524-7e487b3df7d8",
   "metadata": {},
   "outputs": [
    {
     "name": "stdout",
     "output_type": "stream",
     "text": [
      "Found 1 links to images\n",
      "I scraped 1 images!\n"
     ]
    }
   ],
   "source": [
    "#wait 5 seconds to allow your new page to load\n",
    "time.sleep(5)\n",
    "images = [] \n",
    "\n",
    "#itterate over both uploaded and tagged images respectively\n",
    "#for i in [\"photos_all\", \"photos_of\"]:\n",
    "if True:\n",
    "    driver.get(\"https://www.facebook.com/profile.php?id=61550075192517&sk=photos\")\n",
    "    time.sleep(5)\n",
    "    \n",
    "    #scroll down\n",
    "    #increase the range to sroll more\n",
    "    #example: range(0,10) scrolls down 650+ images\n",
    "    for j in range(0,1):\n",
    "        driver.execute_script(\"window.scrollTo(0, document.body.scrollHeight);\")\n",
    "        time.sleep(10)\n",
    "\n",
    "    #target all the link elements on the page\n",
    "    anchors = driver.find_elements(By.TAG_NAME , 'a')\n",
    "    anchors = [a.get_attribute('href') for a in anchors]\n",
    "    \n",
    "    #narrow down all links to image links only\n",
    "    anchors = [a for a in anchors if str(a).startswith(\"https://www.facebook.com/photo\")]\n",
    "    \n",
    "    print('Found ' + str(len(anchors)) + ' links to images')\n",
    "    \n",
    "    #extract the [1]st image element in each link\n",
    "    for a in anchors:\n",
    "        driver.get(a) #navigate to link\n",
    "        time.sleep(5) #wait a bit\n",
    "        img = driver.find_elements(By.TAG_NAME, \"img\")\n",
    "        images.append(img[0].get_attribute(\"src\")) \n",
    "\n",
    "print('I scraped '+ str(len(images)) + ' images!')"
   ]
  },
  {
   "cell_type": "code",
   "execution_count": null,
   "id": "06ff8d0a-1dd2-46fb-8489-7a0782d09584",
   "metadata": {},
   "outputs": [],
   "source": []
  }
 ],
 "metadata": {
  "kernelspec": {
   "display_name": "Python 3 (ipykernel)",
   "language": "python",
   "name": "python3"
  },
  "language_info": {
   "codemirror_mode": {
    "name": "ipython",
    "version": 3
   },
   "file_extension": ".py",
   "mimetype": "text/x-python",
   "name": "python",
   "nbconvert_exporter": "python",
   "pygments_lexer": "ipython3",
   "version": "3.11.4"
  }
 },
 "nbformat": 4,
 "nbformat_minor": 5
}
