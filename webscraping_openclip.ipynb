{
 "cells": [
  {
   "cell_type": "code",
   "execution_count": null,
   "id": "a6053344-7d3a-4399-b68e-11f91ad76b52",
   "metadata": {},
   "outputs": [],
   "source": [
    "from selenium import webdriver\n",
    "from selenium.webdriver.common.by import By\n",
    "from selenium.webdriver.common.keys import Keys\n",
    "from selenium.webdriver.chrome.service import Service\n",
    "from selenium.webdriver.chrome.options import Options\n",
    "import time"
   ]
  },
  {
   "cell_type": "code",
   "execution_count": null,
   "id": "7c4eaad3-0a1d-43e0-991d-f1b68aabb020",
   "metadata": {},
   "outputs": [],
   "source": [
    "service = Service(\"chromedriver.exe\")\n",
    "option = Options()\n",
    "option.add_argument('--disable-notifications')\n",
    "\n",
    "driver = webdriver.Chrome(service=service, options=option)\n",
    "driver.get('https://www.youtube.com/watch?v=DXUAyRRkI6k')"
   ]
  },
  {
   "cell_type": "code",
   "execution_count": null,
   "id": "5c8960bf-7e2c-4df9-a74e-fd98cef03b4b",
   "metadata": {},
   "outputs": [],
   "source": [
    "# wait for the page to load everything (works without it)\n",
    "for i in range(10):\n",
    "    print(i)\n",
    "    time.sleep(1)\n",
    "\n",
    "video = driver.find_element(By.CLASS_NAME, 'ytp-play-button')\n",
    "#video.send_keys(Keys.SPACE) #hits space\n",
    "video.click()  \n",
    "\n",
    "time.sleep(10)\n",
    "driver.quit()"
   ]
  }
 ],
 "metadata": {
  "kernelspec": {
   "display_name": "Python 3 (ipykernel)",
   "language": "python",
   "name": "python3"
  },
  "language_info": {
   "codemirror_mode": {
    "name": "ipython",
    "version": 3
   },
   "file_extension": ".py",
   "mimetype": "text/x-python",
   "name": "python",
   "nbconvert_exporter": "python",
   "pygments_lexer": "ipython3",
   "version": "3.11.4"
  }
 },
 "nbformat": 4,
 "nbformat_minor": 5
}
